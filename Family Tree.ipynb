{
 "cells": [
  {
   "cell_type": "code",
   "execution_count": 4,
   "metadata": {
    "collapsed": false
   },
   "outputs": [
    {
     "name": "stdout",
     "output_type": "stream",
     "text": [
      "http://data.library.sh.cn/jp/data/json?uri=http://data.library.sh.cn/jp/authority/title/huk223doncajistd&key=44b474f9674fef11aee6d91c651837bcb31dd50a\n",
      "{\"@id\":\"http://data.library.sh.cn/jp/authority/title/huk223doncajistd\",\"@type\":[\"http://bibframe.org/vocab/WorkTitle\",\"http://bibframe.org/vocab/Title\"],\"label\":[{\"@language\":\"cht\",\"@value\":\"豐原陳氏家譜\"},{\"@language\":\"chs\",\"@value\":\"丰原陈氏家谱\"}],\"@context\":{\"label\":\"http://bibframe.org/vocab/label\"}}\n"
     ]
    }
   ],
   "source": [
    "key='44b474f9674fef11aee6d91c651837bcb31dd50a'\n",
    "import requests\n",
    "uris={\n",
    "    'title':'data.library.sh.cn/jp/authority/title/'\n",
    "    'instance':'http://data.library.sh.cn/jp/resource/instance/'\n",
    "    'temporal':'http://data.library.sh.cn/authority/temporal/'\n",
    "    'edition':'http://data.library.sh.cn/vocab/edition/'\n",
    "    'work':'http://data.library.sh.cn/jp/resource/work/'\n",
    "    'place':'http://data.library.sh.cn/entity/place/'\n",
    "    'organization':'http://data.library.sh.cn/entity/organization/'\n",
    "    'item':'http://data.library.sh.cn/jp/resource/item/'\n",
    "    'person':'http://data.library.sh.cn/jp/entity/person/'\n",
    "    'titleofancestraltemple':'http://data.library.sh.cn/jp/authority/titleofancestraltemple/'\n",
    "    'familyname':'http://data.library.sh.cn/authority/familyname/'\n",
    "\n",
    "print requests.get(uri).content"
   ]
  }
 ],
 "metadata": {
  "kernelspec": {
   "display_name": "Python 2",
   "language": "python",
   "name": "python2"
  },
  "language_info": {
   "codemirror_mode": {
    "name": "ipython",
    "version": 2
   },
   "file_extension": ".py",
   "mimetype": "text/x-python",
   "name": "python",
   "nbconvert_exporter": "python",
   "pygments_lexer": "ipython2",
   "version": "2.7.10"
  }
 },
 "nbformat": 4,
 "nbformat_minor": 0
}
