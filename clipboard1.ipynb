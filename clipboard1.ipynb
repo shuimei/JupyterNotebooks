{
 "cells": [
  {
   "cell_type": "markdown",
   "metadata": {},
   "source": [
    "## numpy masked array"
   ]
  },
  {
   "cell_type": "code",
   "execution_count": 24,
   "metadata": {
    "collapsed": false
   },
   "outputs": [
    {
     "data": {
      "text/plain": [
       "masked_array(data = [(1, 1.0) (2, 2.0)],\n",
       "             mask = [(False, False) (False, False)],\n",
       "       fill_value = (999999, 1e+20),\n",
       "            dtype = [('a', '<i4'), ('b', '<f8')])"
      ]
     },
     "execution_count": 24,
     "metadata": {},
     "output_type": "execute_result"
    }
   ],
   "source": [
    "import numpy as np\n",
    "x=np.array([1,2,3])\n",
    "x.view(np.ma.MaskedArray)\n",
    "x = np.array([(1, 1.), (2, 2.)], dtype=[('a',int), ('b', float)])\n",
    "x.view(np.ma.MaskedArray)"
   ]
  },
  {
   "cell_type": "code",
   "execution_count": 23,
   "metadata": {
    "collapsed": false
   },
   "outputs": [
    {
     "name": "stdout",
     "output_type": "stream",
     "text": [
      "[[ 0  1  2  3  4  5  6]\n",
      " [ 7  8  9 10 11 12 13]\n",
      " [14 15 16 17 18 19 20]\n",
      " [21 22 23 24 25 26 27]\n",
      " [28 29 30 31 32 33 34]]\n",
      "[[False False False False False False False]\n",
      " [False False False False False False False]\n",
      " [False False False False False False False]\n",
      " [ True  True  True  True  True  True  True]\n",
      " [ True  True  True  True  True  True  True]]\n"
     ]
    },
    {
     "data": {
      "text/plain": [
       "array([[ 0,  0,  0,  0,  0,  0,  0],\n",
       "       [ 0,  0,  0,  0,  0,  0,  0],\n",
       "       [ 0,  0,  0,  0,  0,  0,  0],\n",
       "       [21, 22, 23, 24, 25, 26, 27],\n",
       "       [28, 29, 30, 31, 32, 33, 34]])"
      ]
     },
     "execution_count": 23,
     "metadata": {},
     "output_type": "execute_result"
    }
   ],
   "source": [
    "y = np.arange(35).reshape(5,7)\n",
    "print y\n",
    "b=y>20\n",
    "print b\n",
    "def foo(a):\n",
    "    def bar(t):\n",
    "        if t==True:\n",
    "            return 1\n",
    "        else:\n",
    "            return 0\n",
    "    return map(bar,a)\n",
    "b=map(foo,b)\n",
    "b*y"
   ]
  },
  {
   "cell_type": "code",
   "execution_count": 25,
   "metadata": {
    "collapsed": false
   },
   "outputs": [
    {
     "name": "stderr",
     "output_type": "stream",
     "text": [
      "c:\\python27\\arcgis10.3\\lib\\site-packages\\matplotlib\\backend_bases.py:2437: MatplotlibDeprecationWarning: Using default event loop until function specific to this GUI is implemented\n",
      "  warnings.warn(str, mplDeprecation)\n"
     ]
    }
   ],
   "source": [
    "import numpy as np\n",
    "import matplotlib.pyplot as plt\n",
    "\n",
    "plt.axis([0, 100, 0, 1])\n",
    "plt.ion()\n",
    "\n",
    "for i in range(100):\n",
    "    y = np.random.random()\n",
    "    plt.scatter(i, y)\n",
    "    plt.pause(0.1)"
   ]
  },
  {
   "cell_type": "markdown",
   "metadata": {},
   "source": [
    "## multiprocessing"
   ]
  },
  {
   "cell_type": "code",
   "execution_count": 3,
   "metadata": {
    "collapsed": true
   },
   "outputs": [],
   "source": [
    "import multiprocessing\n",
    "\n",
    "def worker(num):\n",
    "    \"\"\"thread worker function\"\"\"\n",
    "    print 'Worker:', num\n",
    "    return\n",
    "\n",
    "if __name__ == '__main__':\n",
    "    jobs = []\n",
    "    for i in range(5):\n",
    "        p = multiprocessing.Process(target=worker, args=(i,))\n",
    "        jobs.append(p)\n",
    "        p.start()"
   ]
  },
  {
   "cell_type": "code",
   "execution_count": 2,
   "metadata": {
    "collapsed": false
   },
   "outputs": [
    {
     "name": "stderr",
     "output_type": "stream",
     "text": [
      "c:\\python27\\arcgis10.3\\lib\\site-packages\\requests\\packages\\urllib3\\util\\ssl_.py:120: InsecurePlatformWarning:\n",
      "\n",
      "A true SSLContext object is not available. This prevents urllib3 from configuring SSL appropriately and may cause certain SSL connections to fail. For more information, see https://urllib3.readthedocs.org/en/latest/security.html#insecureplatformwarning.\n",
      "\n"
     ]
    },
    {
     "data": {
      "text/html": [
       "<iframe id=\"igraph\" scrolling=\"no\" style=\"border:none;\" seamless=\"seamless\" src=\"https://plot.ly/~shuimei/2.embed\" height=\"525px\" width=\"100%\"></iframe>"
      ],
      "text/plain": [
       "<plotly.tools.PlotlyDisplay object>"
      ]
     },
     "execution_count": 2,
     "metadata": {},
     "output_type": "execute_result"
    }
   ],
   "source": [
    "import matplotlib.pyplot as plt\n",
    "import numpy as np\n",
    "import plotly.plotly as py\n",
    "\n",
    "n = 50\n",
    "x, y, z, s, ew = np.random.rand(5, n)\n",
    "c, ec = np.random.rand(2, n, 4)\n",
    "area_scale, width_scale = 500, 5\n",
    "\n",
    "fig, ax = plt.subplots()\n",
    "sc = ax.scatter(x, y, c=c,\n",
    "                s=np.square(s)*area_scale,\n",
    "                edgecolor=ec,\n",
    "                linewidth=ew*width_scale)\n",
    "ax.grid()\n",
    "\n",
    "py.iplot_mpl(fig)"
   ]
  },
  {
   "cell_type": "code",
   "execution_count": 1,
   "metadata": {
    "collapsed": false
   },
   "outputs": [
    {
     "data": {
      "text/html": [
       "<div>\n",
       "<table border=\"1\" class=\"dataframe\">\n",
       "  <thead>\n",
       "    <tr style=\"text-align: right;\">\n",
       "      <th></th>\n",
       "      <th>0</th>\n",
       "      <th>1</th>\n",
       "      <th>2</th>\n",
       "      <th>3</th>\n",
       "      <th>4</th>\n",
       "      <th>5</th>\n",
       "      <th>6</th>\n",
       "      <th>7</th>\n",
       "      <th>8</th>\n",
       "      <th>9</th>\n",
       "    </tr>\n",
       "  </thead>\n",
       "  <tbody>\n",
       "    <tr>\n",
       "      <th>0</th>\n",
       "      <td>73975</td>\n",
       "      <td>上海</td>\n",
       "      <td>崇明县</td>\n",
       "      <td>美食</td>\n",
       "      <td>本帮江浙菜</td>\n",
       "      <td>南京西路2-68号新世界城9F</td>\n",
       "      <td>70后饭吧(人民广场店)</td>\n",
       "      <td>121.48</td>\n",
       "      <td>31.2407</td>\n",
       "      <td>80</td>\n",
       "    </tr>\n",
       "    <tr>\n",
       "      <th>1</th>\n",
       "      <td>73976</td>\n",
       "      <td>上海</td>\n",
       "      <td>崇明县</td>\n",
       "      <td>美食</td>\n",
       "      <td>本帮江浙菜</td>\n",
       "      <td>淞沪路77号万达广场B1楼城中城B-17号商铺</td>\n",
       "      <td>锅殿(千岛湖铁锅菜)</td>\n",
       "      <td>121.52</td>\n",
       "      <td>31.3084</td>\n",
       "      <td>80</td>\n",
       "    </tr>\n",
       "    <tr>\n",
       "      <th>2</th>\n",
       "      <td>73977</td>\n",
       "      <td>上海</td>\n",
       "      <td>崇明县</td>\n",
       "      <td>美食</td>\n",
       "      <td>本帮江浙菜</td>\n",
       "      <td>大连路588号宝地广场C座2楼</td>\n",
       "      <td>丰收果实(大连路店)</td>\n",
       "      <td>121.518</td>\n",
       "      <td>31.267</td>\n",
       "      <td>80</td>\n",
       "    </tr>\n",
       "    <tr>\n",
       "      <th>3</th>\n",
       "      <td>73978</td>\n",
       "      <td>上海</td>\n",
       "      <td>崇明县</td>\n",
       "      <td>美食</td>\n",
       "      <td>本帮江浙菜</td>\n",
       "      <td>政学路39号</td>\n",
       "      <td>丰和日丽(创智天地店)</td>\n",
       "      <td>121.517</td>\n",
       "      <td>31.3118</td>\n",
       "      <td>40</td>\n",
       "    </tr>\n",
       "    <tr>\n",
       "      <th>4</th>\n",
       "      <td>73979</td>\n",
       "      <td>上海</td>\n",
       "      <td>崇明县</td>\n",
       "      <td>美食</td>\n",
       "      <td>本帮江浙菜</td>\n",
       "      <td>兴国路201号</td>\n",
       "      <td>圆苑(兴国路店)</td>\n",
       "      <td>121.444</td>\n",
       "      <td>31.2124</td>\n",
       "      <td>80</td>\n",
       "    </tr>\n",
       "  </tbody>\n",
       "</table>\n",
       "</div>"
      ],
      "text/plain": [
       "       0   1    2   3      4                        5             6        7  \\\n",
       "0  73975  上海  崇明县  美食  本帮江浙菜          南京西路2-68号新世界城9F  70后饭吧(人民广场店)   121.48   \n",
       "1  73976  上海  崇明县  美食  本帮江浙菜  淞沪路77号万达广场B1楼城中城B-17号商铺    锅殿(千岛湖铁锅菜)   121.52   \n",
       "2  73977  上海  崇明县  美食  本帮江浙菜          大连路588号宝地广场C座2楼    丰收果实(大连路店)  121.518   \n",
       "3  73978  上海  崇明县  美食  本帮江浙菜                   政学路39号   丰和日丽(创智天地店)  121.517   \n",
       "4  73979  上海  崇明县  美食  本帮江浙菜                  兴国路201号      圆苑(兴国路店)  121.444   \n",
       "\n",
       "         8   9  \n",
       "0  31.2407  80  \n",
       "1  31.3084  80  \n",
       "2   31.267  80  \n",
       "3  31.3118  40  \n",
       "4  31.2124  80  "
      ]
     },
     "execution_count": 1,
     "metadata": {},
     "output_type": "execute_result"
    }
   ],
   "source": [
    "import pandas as pd\n",
    "import geojson\n",
    "import sqlite3\n",
    "conn=sqlite3.connect('P:/files/codes/flask-proj/dianpingGeo/store.db')\n",
    "t=conn.execute(\"select * from store where category = '美食';\")\n",
    "p=t.fetchall()\n",
    "q=pd.DataFrame(p)\n",
    "q.head()\n"
   ]
  },
  {
   "cell_type": "code",
   "execution_count": 85,
   "metadata": {
    "collapsed": false
   },
   "outputs": [
    {
     "data": {
      "image/png": "[encoded data removed]",
      "text/plain": [
       "<matplotlib.figure.Figure at 0xd0d4070>"
      ]
     },
     "metadata": {},
     "output_type": "display_data"
    },
    {
     "data": {
      "text/plain": [
       "<ggplot: (13701557)>"
      ]
     },
     "execution_count": 85,
     "metadata": {},
     "output_type": "execute_result"
    }
   ],
   "source": [
    "%matplotlib inline\n",
    "import os\n",
    "import pandas as pd\n",
    "from ggplot import *\n",
    "import matplotlib.pyplot as plt\n",
    "os.chdir(r'I:\\Research Issues\\Data')\n",
    "tables=filter(lambda a:a[-3:]=='xls',os.listdir(os.getcwd()))\n",
    "stocks=map(pd.read_excel, tables)\n",
    "names = stocks[0]['Name']\n",
    "data=map(lambda a:a.iloc[6,10],stocks[19:36])\n",
    "year=range(1992,2009)\n",
    "n=pd.DataFrame()\n",
    "n['year']=year\n",
    "n['NY']=data\n",
    "ggplot(n,aes(x='year',y='NY'))+geom_line()"
   ]
  },
  {
   "cell_type": "code",
   "execution_count": 71,
   "metadata": {
    "collapsed": false
   },
   "outputs": [
    {
     "data": {
      "text/plain": [
       "[0, 1, 2, 3, 4, 5, 6, 7, 8, 9, 10, 11, 12, 13, 14, 15, 16, 17, 18]"
      ]
     },
     "execution_count": 71,
     "metadata": {},
     "output_type": "execute_result"
    }
   ],
   "source": [
    "x=range(100)\n",
    "x[:19]"
   ]
  },
  {
   "cell_type": "code",
   "execution_count": 36,
   "metadata": {
    "collapsed": false
   },
   "outputs": [],
   "source": [
    "import re\n",
    "f=open('CH1949BST.txt','r')\n",
    "g=open('CH1949BST2.txt','w+')\n",
    "c=0\n",
    "pattern = re.compile('[a-zA-Z]+')\n",
    "name = ''\n",
    "for n in f:\n",
    "    if len(n) > 50:\n",
    "        name = re.findall(pattern, n)[0]\n",
    "    else:\n",
    "        g.write(n.rstrip('\\n')+'  '+name+'\\n')\n",
    "g.close()"
   ]
  },
  {
   "cell_type": "code",
   "execution_count": 51,
   "metadata": {
    "collapsed": false
   },
   "outputs": [
    {
     "name": "stdout",
     "output_type": "stream",
     "text": [
      "           0  1  2   3     4     5  6  7  8  9  10 11 12 13      14    15\n",
      "0  1949011300  0     57  1399  1006                    0     Carmen  None\n",
      "1  1949011306  0     59  1393  1006                    0     Carmen  None\n",
      "2  1949011312  0     63  1387  1006                    0     Carmen  None\n",
      "3  1949011318  0     67  1380  1006                    0     Carmen  None\n",
      "4  1949011400  0     72  1373  1005                    0     Carmen  None\n"
     ]
    },
    {
     "data": {
      "text/html": [
       "<div>\n",
       "<table border=\"1\" class=\"dataframe\">\n",
       "  <thead>\n",
       "    <tr style=\"text-align: right;\">\n",
       "      <th></th>\n",
       "      <th>0</th>\n",
       "      <th>1</th>\n",
       "      <th>2</th>\n",
       "      <th>3</th>\n",
       "      <th>4</th>\n",
       "      <th>5</th>\n",
       "      <th>6</th>\n",
       "      <th>7</th>\n",
       "      <th>8</th>\n",
       "      <th>9</th>\n",
       "      <th>10</th>\n",
       "      <th>11</th>\n",
       "      <th>12</th>\n",
       "      <th>13</th>\n",
       "      <th>15</th>\n",
       "    </tr>\n",
       "    <tr>\n",
       "      <th>14</th>\n",
       "      <th></th>\n",
       "      <th></th>\n",
       "      <th></th>\n",
       "      <th></th>\n",
       "      <th></th>\n",
       "      <th></th>\n",
       "      <th></th>\n",
       "      <th></th>\n",
       "      <th></th>\n",
       "      <th></th>\n",
       "      <th></th>\n",
       "      <th></th>\n",
       "      <th></th>\n",
       "      <th></th>\n",
       "      <th></th>\n",
       "    </tr>\n",
       "  </thead>\n",
       "  <tbody>\n",
       "    <tr>\n",
       "      <th></th>\n",
       "      <td>1949120706</td>\n",
       "      <td>0</td>\n",
       "      <td></td>\n",
       "      <td>96</td>\n",
       "      <td>1412</td>\n",
       "      <td></td>\n",
       "      <td>999</td>\n",
       "      <td></td>\n",
       "      <td></td>\n",
       "      <td></td>\n",
       "      <td></td>\n",
       "      <td></td>\n",
       "      <td></td>\n",
       "      <td>0</td>\n",
       "      <td>Camilla</td>\n",
       "    </tr>\n",
       "    <tr>\n",
       "      <th>Allyn</th>\n",
       "      <td>1949112512</td>\n",
       "      <td>9</td>\n",
       "      <td>410</td>\n",
       "      <td>99</td>\n",
       "      <td>1539</td>\n",
       "      <td>980</td>\n",
       "      <td>998</td>\n",
       "      <td></td>\n",
       "      <td></td>\n",
       "      <td></td>\n",
       "      <td></td>\n",
       "      <td></td>\n",
       "      <td>25</td>\n",
       "      <td></td>\n",
       "      <td>NaN</td>\n",
       "    </tr>\n",
       "    <tr>\n",
       "      <th>Betty</th>\n",
       "      <td>1949120412</td>\n",
       "      <td>4</td>\n",
       "      <td></td>\n",
       "      <td>94</td>\n",
       "      <td>1335</td>\n",
       "      <td>1000</td>\n",
       "      <td>997</td>\n",
       "      <td></td>\n",
       "      <td></td>\n",
       "      <td></td>\n",
       "      <td></td>\n",
       "      <td></td>\n",
       "      <td>35</td>\n",
       "      <td></td>\n",
       "      <td>NaN</td>\n",
       "    </tr>\n",
       "    <tr>\n",
       "      <th>Camilla</th>\n",
       "      <td>1949120918</td>\n",
       "      <td>4</td>\n",
       "      <td></td>\n",
       "      <td>97</td>\n",
       "      <td>1419</td>\n",
       "      <td>1000</td>\n",
       "      <td>997</td>\n",
       "      <td></td>\n",
       "      <td></td>\n",
       "      <td></td>\n",
       "      <td></td>\n",
       "      <td></td>\n",
       "      <td>35</td>\n",
       "      <td></td>\n",
       "      <td>NaN</td>\n",
       "    </tr>\n",
       "    <tr>\n",
       "      <th>Carmen</th>\n",
       "      <td>1949011418</td>\n",
       "      <td>0</td>\n",
       "      <td></td>\n",
       "      <td>88</td>\n",
       "      <td>1399</td>\n",
       "      <td>1006</td>\n",
       "      <td></td>\n",
       "      <td></td>\n",
       "      <td></td>\n",
       "      <td></td>\n",
       "      <td></td>\n",
       "      <td></td>\n",
       "      <td>0</td>\n",
       "      <td></td>\n",
       "      <td>NaN</td>\n",
       "    </tr>\n",
       "    <tr>\n",
       "      <th>Della</th>\n",
       "      <td>1949061518</td>\n",
       "      <td>0</td>\n",
       "      <td></td>\n",
       "      <td>99</td>\n",
       "      <td>1450</td>\n",
       "      <td>1008</td>\n",
       "      <td></td>\n",
       "      <td></td>\n",
       "      <td></td>\n",
       "      <td></td>\n",
       "      <td></td>\n",
       "      <td></td>\n",
       "      <td>0</td>\n",
       "      <td></td>\n",
       "      <td>NaN</td>\n",
       "    </tr>\n",
       "    <tr>\n",
       "      <th>Elaine</th>\n",
       "      <td>1949070612</td>\n",
       "      <td>3</td>\n",
       "      <td></td>\n",
       "      <td>98</td>\n",
       "      <td>1403</td>\n",
       "      <td>1008</td>\n",
       "      <td>998</td>\n",
       "      <td></td>\n",
       "      <td></td>\n",
       "      <td></td>\n",
       "      <td></td>\n",
       "      <td></td>\n",
       "      <td>25</td>\n",
       "      <td></td>\n",
       "      <td>NaN</td>\n",
       "    </tr>\n",
       "    <tr>\n",
       "      <th>Irma</th>\n",
       "      <td>1949072900</td>\n",
       "      <td>0</td>\n",
       "      <td>252</td>\n",
       "      <td>1202</td>\n",
       "      <td></td>\n",
       "      <td>995</td>\n",
       "      <td></td>\n",
       "      <td></td>\n",
       "      <td></td>\n",
       "      <td></td>\n",
       "      <td></td>\n",
       "      <td></td>\n",
       "      <td>0</td>\n",
       "      <td></td>\n",
       "      <td>NaN</td>\n",
       "    </tr>\n",
       "    <tr>\n",
       "      <th>Judith</th>\n",
       "      <td>1949080818</td>\n",
       "      <td>0</td>\n",
       "      <td></td>\n",
       "      <td>98</td>\n",
       "      <td>1337</td>\n",
       "      <td>1006</td>\n",
       "      <td></td>\n",
       "      <td></td>\n",
       "      <td></td>\n",
       "      <td></td>\n",
       "      <td></td>\n",
       "      <td></td>\n",
       "      <td>0</td>\n",
       "      <td></td>\n",
       "      <td>NaN</td>\n",
       "    </tr>\n",
       "    <tr>\n",
       "      <th>Kitty</th>\n",
       "      <td>1949090212</td>\n",
       "      <td>9</td>\n",
       "      <td>537</td>\n",
       "      <td>1482</td>\n",
       "      <td></td>\n",
       "      <td>998</td>\n",
       "      <td></td>\n",
       "      <td></td>\n",
       "      <td></td>\n",
       "      <td></td>\n",
       "      <td></td>\n",
       "      <td></td>\n",
       "      <td>0</td>\n",
       "      <td></td>\n",
       "      <td>NaN</td>\n",
       "    </tr>\n",
       "    <tr>\n",
       "      <th>Omilia</th>\n",
       "      <td>1949092918</td>\n",
       "      <td>0</td>\n",
       "      <td></td>\n",
       "      <td>95</td>\n",
       "      <td>1382</td>\n",
       "      <td>1004</td>\n",
       "      <td></td>\n",
       "      <td></td>\n",
       "      <td></td>\n",
       "      <td></td>\n",
       "      <td></td>\n",
       "      <td></td>\n",
       "      <td>0</td>\n",
       "      <td></td>\n",
       "      <td>NaN</td>\n",
       "    </tr>\n",
       "    <tr>\n",
       "      <th>Patricia</th>\n",
       "      <td>1949102918</td>\n",
       "      <td>9</td>\n",
       "      <td>482</td>\n",
       "      <td>1784</td>\n",
       "      <td></td>\n",
       "      <td>980</td>\n",
       "      <td></td>\n",
       "      <td></td>\n",
       "      <td></td>\n",
       "      <td></td>\n",
       "      <td></td>\n",
       "      <td></td>\n",
       "      <td>0</td>\n",
       "      <td></td>\n",
       "      <td>NaN</td>\n",
       "    </tr>\n",
       "    <tr>\n",
       "      <th>Rena</th>\n",
       "      <td>1949111106</td>\n",
       "      <td>3</td>\n",
       "      <td></td>\n",
       "      <td>98</td>\n",
       "      <td>1366</td>\n",
       "      <td>1004</td>\n",
       "      <td>997</td>\n",
       "      <td></td>\n",
       "      <td></td>\n",
       "      <td></td>\n",
       "      <td></td>\n",
       "      <td></td>\n",
       "      <td>30</td>\n",
       "      <td></td>\n",
       "      <td>NaN</td>\n",
       "    </tr>\n",
       "    <tr>\n",
       "      <th>nameless</th>\n",
       "      <td>1949110600</td>\n",
       "      <td>9</td>\n",
       "      <td>536</td>\n",
       "      <td>95</td>\n",
       "      <td>1411</td>\n",
       "      <td>998</td>\n",
       "      <td></td>\n",
       "      <td></td>\n",
       "      <td></td>\n",
       "      <td></td>\n",
       "      <td></td>\n",
       "      <td></td>\n",
       "      <td>9</td>\n",
       "      <td></td>\n",
       "      <td>NaN</td>\n",
       "    </tr>\n",
       "  </tbody>\n",
       "</table>\n",
       "</div>"
      ],
      "text/plain": [
       "                  0  1    2     3     4     5    6  7  8  9  10 11  12 13  \\\n",
       "14                                                                          \n",
       "          1949120706  0         96  1412        999                     0   \n",
       "Allyn     1949112512  9  410    99  1539   980  998                 25      \n",
       "Betty     1949120412  4         94  1335  1000  997                 35      \n",
       "Camilla   1949120918  4         97  1419  1000  997                 35      \n",
       "Carmen    1949011418  0         88  1399  1006                       0      \n",
       "Della     1949061518  0         99  1450  1008                       0      \n",
       "Elaine    1949070612  3         98  1403  1008  998                 25      \n",
       "Irma      1949072900  0  252  1202         995                       0      \n",
       "Judith    1949080818  0         98  1337  1006                       0      \n",
       "Kitty     1949090212  9  537  1482         998                       0      \n",
       "Omilia    1949092918  0         95  1382  1004                       0      \n",
       "Patricia  1949102918  9  482  1784         980                       0      \n",
       "Rena      1949111106  3         98  1366  1004  997                 30      \n",
       "nameless  1949110600  9  536    95  1411   998                       9      \n",
       "\n",
       "               15  \n",
       "14                 \n",
       "          Camilla  \n",
       "Allyn         NaN  \n",
       "Betty         NaN  \n",
       "Camilla       NaN  \n",
       "Carmen        NaN  \n",
       "Della         NaN  \n",
       "Elaine        NaN  \n",
       "Irma          NaN  \n",
       "Judith        NaN  \n",
       "Kitty         NaN  \n",
       "Omilia        NaN  \n",
       "Patricia      NaN  \n",
       "Rena          NaN  \n",
       "nameless      NaN  "
      ]
     },
     "execution_count": 51,
     "metadata": {},
     "output_type": "execute_result"
    }
   ],
   "source": [
    "import pandas as pd\n",
    "g=open('CH1949BST2.txt','r')\n",
    "gg = []\n",
    "for gl in g:\n",
    "    gg.append(gl.rstrip('\\n').split(' '))\n",
    "d=pd.DataFrame(gg)\n",
    "print d.head()"
   ]
  }
 ],
 "metadata": {
  "kernelspec": {
   "display_name": "Python 2",
   "language": "python",
   "name": "python2"
  },
  "language_info": {
   "codemirror_mode": {
    "name": "ipython",
    "version": 2
   },
   "file_extension": ".py",
   "mimetype": "text/x-python",
   "name": "python",
   "nbconvert_exporter": "python",
   "pygments_lexer": "ipython2",
   "version": "2.7.10"
  }
 },
 "nbformat": 4,
 "nbformat_minor": 0
}
